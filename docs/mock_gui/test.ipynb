{
 "cells": [
  {
   "cell_type": "code",
   "execution_count": null,
   "metadata": {},
   "outputs": [
    {
     "ename": "",
     "evalue": "",
     "output_type": "error",
     "traceback": [
      "\u001b[1;31m'cs (Python 3.12.3)'(으)로 셀을 실행하려면 ipykernel 패키지가 필요합니다.\n",
      "\u001b[1;31m다음 명령어를 실행하여 Python 환경에 'ipykernel'을(를) 설치합니다. \n",
      "\u001b[1;31m 명령: 'conda install -p c:\\Users\\kang\\.conda\\envs\\cs ipykernel --update-deps --force-reinstall'"
     ]
    }
   ],
   "source": [
    "import tkinter as tk\n",
    "\n",
    "def action_b():\n",
    "    print(\"Button B was triggered by Button A\")\n",
    "\n",
    "def action_a():\n",
    "    print(\"Button A is executing its action\")\n",
    "    # 여기에 Button A가 수행해야 할 모든 작업을 추가하세요.\n",
    "    # 예를 들어, 어떤 데이터 처리나 계산, 파일 읽기/쓰기 등\n",
    "    # 모든 작업이 끝났다고 가정하고, 그 후에 Button B의 동작을 실행합니다.\n",
    "    button_b.invoke()  # Button B의 동작 실행\n",
    "\n",
    "root = tk.Tk()\n",
    "\n",
    "button_b = tk.Button(root, text=\"Button B\", command=action_b)\n",
    "button_b.pack()\n",
    "\n",
    "button_a = tk.Button(root, text=\"Press A to trigger B after A\", command=action_a)\n",
    "button_a.pack()\n",
    "\n",
    "root.mainloop()\n"
   ]
  },
  {
   "cell_type": "code",
   "execution_count": 11,
   "metadata": {},
   "outputs": [
    {
     "data": {
      "text/plain": [
       "'The 2020 World Series was played at Globe Life Field in Arlington, Texas.'"
      ]
     },
     "execution_count": 11,
     "metadata": {},
     "output_type": "execute_result"
    }
   ],
   "source": [
    "    def record_audio(self, duration=5, fs=44100):\n",
    "        print(\"Recording starts...\")\n",
    "        recording = sd.rec(int(duration * fs), samplerate=fs, channels=2, dtype='float64')\n",
    "        sd.wait()  # 녹음이 끝날 때까지 기다림\n",
    "        print(\"Recording finished.\")\n",
    "        print(\"!!: recording results:\", recording)\n",
    "        \n",
    "        sf.write('recording.wav', recording, fs)\n",
    "        pdb.set_trace()\n",
    "        return recording       "
   ]
  }
 ],
 "metadata": {
  "kernelspec": {
   "display_name": "Python 3",
   "language": "python",
   "name": "python3"
  },
  "language_info": {
   "codemirror_mode": {
    "name": "ipython",
    "version": 3
   },
   "file_extension": ".py",
   "mimetype": "text/x-python",
   "name": "python",
   "nbconvert_exporter": "python",
   "pygments_lexer": "ipython3",
   "version": "3.12.3"
  }
 },
 "nbformat": 4,
 "nbformat_minor": 2
}
